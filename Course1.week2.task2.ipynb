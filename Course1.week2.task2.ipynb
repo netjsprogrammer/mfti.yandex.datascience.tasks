{
 "cells": [
  {
   "cell_type": "code",
   "execution_count": 1,
   "metadata": {
    "collapsed": true
   },
   "outputs": [],
   "source": [
    "import numpy as np"
   ]
  },
  {
   "cell_type": "code",
   "execution_count": 32,
   "metadata": {
    "collapsed": true
   },
   "outputs": [],
   "source": [
    "import scipy as sp"
   ]
  },
  {
   "cell_type": "code",
   "execution_count": 3,
   "metadata": {
    "collapsed": true
   },
   "outputs": [],
   "source": [
    "inputfile = open('sentences.txt')"
   ]
  },
  {
   "cell_type": "code",
   "execution_count": 4,
   "metadata": {
    "collapsed": true
   },
   "outputs": [],
   "source": [
    "filerows = list(inputfile)"
   ]
  },
  {
   "cell_type": "code",
   "execution_count": 5,
   "metadata": {
    "collapsed": false
   },
   "outputs": [],
   "source": [
    "lowerrows = []\n",
    "\n",
    "for row in filerows:\n",
    "    lowerrows.append(row.strip().lower())\n",
    "    "
   ]
  },
  {
   "cell_type": "code",
   "execution_count": 6,
   "metadata": {
    "collapsed": false
   },
   "outputs": [],
   "source": [
    "import re;\n",
    "\n",
    "sentenses = []\n",
    "\n",
    "for row in lowerrows:\n",
    "    b = re.split('[^a-z]', row)\n",
    "    b = filter(None, b)\n",
    "    sentenses.append(b)\n",
    "    \n"
   ]
  },
  {
   "cell_type": "code",
   "execution_count": 8,
   "metadata": {
    "collapsed": false
   },
   "outputs": [],
   "source": [
    "sentencescount = len(sentenses)"
   ]
  },
  {
   "cell_type": "code",
   "execution_count": 9,
   "metadata": {
    "collapsed": false
   },
   "outputs": [],
   "source": [
    "index = 0;\n",
    "\n",
    "wordindexes = {};\n",
    "\n",
    "for row in sentenses:\n",
    "    for word in row:\n",
    "        if word not in wordindexes:\n",
    "            wordindexes[word] = index;\n",
    "            index = index + 1;"
   ]
  },
  {
   "cell_type": "code",
   "execution_count": 10,
   "metadata": {
    "collapsed": false
   },
   "outputs": [
    {
     "name": "stdout",
     "output_type": "stream",
     "text": [
      "{'displays': 155, 'osx': 192, 'selection': 67, 'safari': 221, 'just': 31, 'developed': 194, 'over': 170, 'vermin': 72, 'domestic': 87, 'named': 104, 'installed': 181, 'symbols': 149, 'through': 206, 'human': 51, 'world': 142, 'disk': 244, 'its': 74, 'fifth': 249, 'features': 251, 'tamed': 65, 'upgrade': 232, 'lb': 97, 'drive': 248, 'to': 2, 'won': 239, 'deliberately': 64, 'marks': 226, 'has': 129, 'predecessor': 172, 'non': 199, 'which': 182, 'read': 122, 'october': 160, 'every': 215, 'os': 174, 'they': 68, 'not': 6, 'during': 10, 'now': 195, 'possess': 83, 'intel': 189, 'keyboards': 116, 'bytes': 20, 'unnecessary': 102, 'patch': 217, 'predators': 71, 'small': 60, 'output': 41, 'entirely': 235, 'where': 29, 'ears': 52, 'available': 164, 'on': 115, 'often': 113, 'sequence': 32, 'some': 177, 'lion': 202, 'frequency': 50, 'are': 78, 'year': 216, 'download': 205, 'terms': 123, 'concern': 107, 'error': 106, 'for': 37, 'pipes': 128, 'since': 187, 'factory': 180, 'artificial': 66, 'content': 42, 'version': 163, 'run': 245, 'between': 95, 'new': 148, 'learned': 137, 'three': 218, 'piped': 100, 'common': 34, 'concatenate': 26, 'be': 23, 'weighing': 94, 'genes': 86, 'use': 36, 'standard': 43, 'release': 225, 'diploid': 80, 'members': 90, 'x': 175, 'based': 200, 'safer': 105, 'by': 56, 'both': 79, 'commands': 125, 'installation': 186, 'installs': 236, 'of': 19, 'needing': 121, 'allows': 196, 'according': 167, 'july': 203, 'later': 197, 'mac': 173, 's': 207, 'streams': 18, 'receives': 154, 'successor': 161, 'catenates': 17, 'changes': 9, 'or': 48, 'felis': 92, 'major': 8, 'faint': 47, 'useful': 70, 'apple': 168, 'app': 208, 'community': 193, 'one': 62, 'running': 222, 'unix': 140, 'right': 132, 'simply': 16, 'linux': 141, 'sounds': 45, 'size': 89, 'undergone': 7, 'delete': 119, 'from': 146, 'enhancements': 171, 'second': 227, 'their': 191, 'create': 242, 'people': 63, 'two': 165, 't': 240, 'redirection': 110, 'however': 98, 'cats': 4, 'too': 46, 'basic': 136, 'permanently': 118, 'type': 150, 'dogs': 3, 'store': 209, 'more': 252, 'files': 28, 'releases': 198, 'that': 82, 'started': 139, 'contains': 169, 'releasing': 212, 'tiger': 162, 'released': 159, 'part': 210, 'hear': 44, 'external': 247, 'editions': 166, 'off': 246, 'mice': 57, 'with': 103, 'than': 234, 'those': 54, 'longer': 184, 'count': 253, 'made': 55, 'animals': 61, 'mavericks': 224, 'versions': 213, 'default': 109, 'was': 158, 'single': 38, 'cat': 15, 'will': 30, 'can': 22, 'were': 69, 'wild': 76, 'similar': 88, 'interactive': 35, 'and': 58, 'mountain': 201, 'computers': 178, 'have': 5, 'stdout': 156, 'process': 13, 'lines': 144, 'is': 40, 'received': 145, 'moved': 188, 'it': 21, 'an': 230, 'high': 49, 'as': 14, 'incremental': 231, 'file': 39, 'in': 0, 'need': 241, 'domesticated': 73, 'any': 152, 'domestication': 12, 'if': 99, 'binary': 27, 'processors': 190, 'no': 183, 'rather': 233, 'legibility': 124, 'separate': 243, 'firmware': 179, 'when': 138, 'mid': 176, 'also': 24, 'other': 59, 'arguments': 153, 'adjacent': 114, 'online': 214, 'instead': 112, 'you': 120, 'ancestor': 77, 'offered': 229, 'used': 25, 'chromosomes': 84, 'closest': 75, 'information': 134, 'may': 117, 'symbol': 111, 'leopard': 157, 'update': 250, 'most': 219, 'wrong': 108, 'connected': 127, 'yosemite': 223, 'such': 53, 'comparison': 1, 'recent': 220, 'a': 33, 'purchase': 204, 'genus': 91, 'kg': 96, 'organisms': 81, 'using': 143, 'starting': 126, 'clear': 130, 'stdin': 147, 'flow': 133, 'roughly': 85, 'so': 238, 'switch': 211, 'without': 151, 'command': 135, 'place': 237, 'allow': 185, 'time': 228, 'redirected': 101, 'the': 11, 'typically': 93, 'left': 131}\n"
     ]
    }
   ],
   "source": [
    "print wordindexes"
   ]
  },
  {
   "cell_type": "code",
   "execution_count": 25,
   "metadata": {
    "collapsed": false
   },
   "outputs": [
    {
     "name": "stdout",
     "output_type": "stream",
     "text": [
      "254\n",
      "22\n"
     ]
    }
   ],
   "source": [
    "indexeslen = len(wordindexes)\n",
    "print indexeslen\n",
    "print sentencescount\n",
    "\n",
    "matrix = np.zeros((sentencescount, indexeslen))"
   ]
  },
  {
   "cell_type": "code",
   "execution_count": 26,
   "metadata": {
    "collapsed": false
   },
   "outputs": [],
   "source": [
    "i = 0;\n",
    "\n",
    "while i < len(sentenses):\n",
    "    j = 0;\n",
    "    while j < len(sentenses[i]):\n",
    "        jindex = wordindexes[sentenses[i][j]]\n",
    "        matrix[i][jindex] = matrix[i][jindex] + 1;\n",
    "        j = j + 1;\n",
    "    i = i + 1;\n",
    "        \n",
    "        \n"
   ]
  },
  {
   "cell_type": "code",
   "execution_count": 15,
   "metadata": {
    "collapsed": false
   },
   "outputs": [
    {
     "name": "stdout",
     "output_type": "stream",
     "text": [
      "[[ 1.  1.  1. ...,  0.  0.  0.]\n",
      " [ 1.  1.  1. ...,  0.  0.  0.]\n",
      " [ 1.  1.  1. ...,  0.  0.  0.]\n",
      " ..., \n",
      " [ 1.  1.  1. ...,  0.  0.  0.]\n",
      " [ 1.  1.  1. ...,  0.  0.  0.]\n",
      " [ 1.  1.  1. ...,  0.  0.  0.]]\n"
     ]
    }
   ],
   "source": [
    "print matrix"
   ]
  },
  {
   "cell_type": "code",
   "execution_count": 34,
   "metadata": {
    "collapsed": false
   },
   "outputs": [],
   "source": [
    "from scipy.spatial.distance import cosine\n",
    "\n",
    "result = [];\n",
    "\n",
    "\n",
    "mrowindex = 0;\n",
    "for matrixrow in matrix:\n",
    "    result.append((mrowindex, sp.spatial.distance.cosine(matrix[0], matrixrow)))\n",
    "    mrowindex = mrowindex+1\n",
    "    "
   ]
  },
  {
   "cell_type": "code",
   "execution_count": 35,
   "metadata": {
    "collapsed": false
   },
   "outputs": [
    {
     "data": {
      "text/plain": [
       "[(0, 0.0),\n",
       " (1, 0.95275444087384664),\n",
       " (2, 0.86447381456421235),\n",
       " (3, 0.89517151632780823),\n",
       " (4, 0.77708871496985887),\n",
       " (5, 0.94023856953328033),\n",
       " (6, 0.7327387580875756),\n",
       " (7, 0.92587506833388988),\n",
       " (8, 0.88427248752843102),\n",
       " (9, 0.90550888174769317),\n",
       " (10, 0.83281653622739416),\n",
       " (11, 0.88047713906656067),\n",
       " (12, 0.83964325485254543),\n",
       " (13, 0.87035925528956715),\n",
       " (14, 0.87401184233025764),\n",
       " (15, 0.94427217874246472),\n",
       " (16, 0.84063618542208085),\n",
       " (17, 0.95664450152379399),\n",
       " (18, 0.94427217874246472),\n",
       " (19, 0.88854435748492944),\n",
       " (20, 0.84275727449171223),\n",
       " (21, 0.82503644694405864)]"
      ]
     },
     "execution_count": 35,
     "metadata": {},
     "output_type": "execute_result"
    }
   ],
   "source": [
    "result"
   ]
  },
  {
   "cell_type": "code",
   "execution_count": 36,
   "metadata": {
    "collapsed": true
   },
   "outputs": [],
   "source": [
    "result.sort(key=lambda tup: tup[1]) "
   ]
  },
  {
   "cell_type": "code",
   "execution_count": 37,
   "metadata": {
    "collapsed": false
   },
   "outputs": [
    {
     "data": {
      "text/plain": [
       "[(0, 0.0),\n",
       " (6, 0.7327387580875756),\n",
       " (4, 0.77708871496985887),\n",
       " (21, 0.82503644694405864),\n",
       " (10, 0.83281653622739416),\n",
       " (12, 0.83964325485254543),\n",
       " (16, 0.84063618542208085),\n",
       " (20, 0.84275727449171223),\n",
       " (2, 0.86447381456421235),\n",
       " (13, 0.87035925528956715),\n",
       " (14, 0.87401184233025764),\n",
       " (11, 0.88047713906656067),\n",
       " (8, 0.88427248752843102),\n",
       " (19, 0.88854435748492944),\n",
       " (3, 0.89517151632780823),\n",
       " (9, 0.90550888174769317),\n",
       " (7, 0.92587506833388988),\n",
       " (5, 0.94023856953328033),\n",
       " (15, 0.94427217874246472),\n",
       " (18, 0.94427217874246472),\n",
       " (1, 0.95275444087384664),\n",
       " (17, 0.95664450152379399)]"
      ]
     },
     "execution_count": 37,
     "metadata": {},
     "output_type": "execute_result"
    }
   ],
   "source": [
    "result"
   ]
  },
  {
   "cell_type": "code",
   "execution_count": null,
   "metadata": {
    "collapsed": true
   },
   "outputs": [],
   "source": []
  }
 ],
 "metadata": {
  "anaconda-cloud": {},
  "kernelspec": {
   "display_name": "Python [conda root]",
   "language": "python",
   "name": "conda-root-py"
  },
  "language_info": {
   "codemirror_mode": {
    "name": "ipython",
    "version": 2
   },
   "file_extension": ".py",
   "mimetype": "text/x-python",
   "name": "python",
   "nbconvert_exporter": "python",
   "pygments_lexer": "ipython2",
   "version": "2.7.12"
  }
 },
 "nbformat": 4,
 "nbformat_minor": 1
}

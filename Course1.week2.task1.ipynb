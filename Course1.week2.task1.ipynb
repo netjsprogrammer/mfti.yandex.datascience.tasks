{
 "cells": [
  {
   "cell_type": "code",
   "execution_count": 2,
   "metadata": {
    "collapsed": false
   },
   "outputs": [],
   "source": [
    "import numpy as np;\n",
    "import scipy as sp;\n",
    "import math\n",
    "\n",
    "from matplotlib import pylab as plt;\n",
    "\n"
   ]
  },
  {
   "cell_type": "code",
   "execution_count": 5,
   "metadata": {
    "collapsed": true
   },
   "outputs": [],
   "source": [
    "def myfunc(x):\n",
    "    return np.sin(x / 5.0) * np.exp(x / 10.0) + 5.0 * np.exp(- x / 2.0);"
   ]
  },
  {
   "cell_type": "code",
   "execution_count": 6,
   "metadata": {
    "collapsed": false
   },
   "outputs": [
    {
     "name": "stdout",
     "output_type": "stream",
     "text": [
      "[[   1    1    1    1]\n",
      " [   1    4   16   64]\n",
      " [   1   10  100 1000]\n",
      " [   1   15  225 3375]]\n",
      "[ 3.25221687  1.74684595  2.50541641  0.63522142]\n"
     ]
    }
   ],
   "source": [
    "a3 = np.array([[1, 1, 1, 1], [1, 4, 4*4, 4*4*4], [1, 10, 10*10, 10*10*10], [1, 15, 15*15, 15*15*15]])\n",
    "b3 = np.array([myfunc(1), myfunc(4), myfunc(10), myfunc(15)])\n",
    "\n",
    "print a3\n",
    "print b3"
   ]
  },
  {
   "cell_type": "code",
   "execution_count": 9,
   "metadata": {
    "collapsed": false
   },
   "outputs": [
    {
     "name": "stdout",
     "output_type": "stream",
     "text": [
      "[ 4.36264154 -1.29552587  0.19333685 -0.00823565]\n"
     ]
    }
   ],
   "source": [
    "from scipy import linalg\n",
    "w3 = linalg.solve(a3, b3)\n",
    "print w3"
   ]
  },
  {
   "cell_type": "code",
   "execution_count": 10,
   "metadata": {
    "collapsed": false
   },
   "outputs": [
    {
     "data": {
      "image/png": "[encoded data removed]",
      "text/plain": [
       "<matplotlib.figure.Figure at 0x7998358>"
      ]
     },
     "metadata": {},
     "output_type": "display_data"
    }
   ],
   "source": [
    "xplot3 = np.arange(1, 15, 0.1)\n",
    "yplot3 = 4.36264154 + (-1.29552587) * xplot3 + (0.19333685) * xplot3 * xplot3 + -0.00823565 * xplot3 * xplot3 * xplot3\n",
    "plt.plot(xplot3, yplot3)\n",
    "plt.show()"
   ]
  },
  {
   "cell_type": "code",
   "execution_count": null,
   "metadata": {
    "collapsed": true
   },
   "outputs": [],
   "source": []
  }
 ],
 "metadata": {
  "anaconda-cloud": {},
  "kernelspec": {
   "display_name": "Python [conda root]",
   "language": "python",
   "name": "conda-root-py"
  },
  "language_info": {
   "codemirror_mode": {
    "name": "ipython",
    "version": 2
   },
   "file_extension": ".py",
   "mimetype": "text/x-python",
   "name": "python",
   "nbconvert_exporter": "python",
   "pygments_lexer": "ipython2",
   "version": "2.7.12"
  }
 },
 "nbformat": 4,
 "nbformat_minor": 1
}
